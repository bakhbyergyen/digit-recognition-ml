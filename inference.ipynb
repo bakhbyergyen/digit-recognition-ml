{
 "cells": [
  {
   "cell_type": "code",
   "execution_count": 7,
   "metadata": {},
   "outputs": [],
   "source": [
    "import boto3\n",
    "\n",
    "REGION_NAME = 'ap-northeast-1'\n",
    "AWS_ACCESS_KEY_ID = ''\n",
    "AWS_SECRET_ACCESS_KEY = ''"
   ]
  },
  {
   "cell_type": "code",
   "execution_count": 8,
   "metadata": {},
   "outputs": [],
   "source": [
    "runtime = boto3.client('sagemaker-runtime',\n",
    "                       aws_access_key_id=AWS_ACCESS_KEY_ID,\n",
    "                       aws_secret_access_key=AWS_SECRET_ACCESS_KEY,\n",
    "                       region_name=REGION_NAME)"
   ]
  },
  {
   "cell_type": "code",
   "execution_count": 9,
   "metadata": {},
   "outputs": [],
   "source": [
    "import base64\n",
    "import json\n",
    "# Create Endpoint\n",
    "endpoint_name = 'digital-recognition-ml-endpoint'\n",
    "\n",
    "# Path to the image file you want to send\n",
    "image_path = \"image.jpg\"\n",
    "\n",
    "# Open the image file in binary mode and encode it in base64\n",
    "with open(image_path, \"rb\") as image_file:\n",
    "    image_bytes = image_file.read()\n",
    "    image_b64 = base64.b64encode(image_bytes).decode('utf-8')\n",
    "# Create the JSON payload\n",
    "payload = {\n",
    "    \"image\": image_b64\n",
    "}\n",
    "\n",
    "# Send the image as a POST request\n",
    "response = runtime.invoke_endpoint(\n",
    "    EndpointName=endpoint_name,\n",
    "    ContentType=\"application/json\",\n",
    "    Body=json.dumps(payload)\n",
    ")\n"
   ]
  },
  {
   "cell_type": "code",
   "execution_count": 10,
   "metadata": {},
   "outputs": [
    {
     "name": "stdout",
     "output_type": "stream",
     "text": [
      "Prediction: 5\n"
     ]
    }
   ],
   "source": [
    "# Print the response from the server\n",
    "if response['ResponseMetadata']['HTTPStatusCode'] == 200:\n",
    "    result = json.loads(response['Body'].read().decode())\n",
    "    print(\"Prediction:\", result['prediction'])\n",
    "else:\n",
    "    print(\"Error:\", response)"
   ]
  }
 ],
 "metadata": {
  "kernelspec": {
   "display_name": "base",
   "language": "python",
   "name": "python3"
  },
  "language_info": {
   "codemirror_mode": {
    "name": "ipython",
    "version": 3
   },
   "file_extension": ".py",
   "mimetype": "text/x-python",
   "name": "python",
   "nbconvert_exporter": "python",
   "pygments_lexer": "ipython3",
   "version": "3.11.5"
  },
  "orig_nbformat": 4
 },
 "nbformat": 4,
 "nbformat_minor": 2
}
